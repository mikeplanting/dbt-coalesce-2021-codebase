{
 "cells": [
  {
   "cell_type": "code",
   "execution_count": 2,
   "id": "ef0ea84b-cf30-4d13-9191-48ec228b653b",
   "metadata": {},
   "outputs": [
    {
     "ename": "ModuleNotFoundError",
     "evalue": "No module named 'altair'",
     "output_type": "error",
     "traceback": [
      "\u001b[0;31m---------------------------------------------------------------------------\u001b[0m",
      "\u001b[0;31mModuleNotFoundError\u001b[0m                       Traceback (most recent call last)",
      "\u001b[0;32m<ipython-input-2-1455af6656ad>\u001b[0m in \u001b[0;36m<module>\u001b[0;34m\u001b[0m\n\u001b[1;32m      4\u001b[0m \u001b[0;32mfrom\u001b[0m \u001b[0mnumpy\u001b[0m\u001b[0;34m.\u001b[0m\u001b[0mrandom\u001b[0m \u001b[0;32mimport\u001b[0m \u001b[0mnormal\u001b[0m\u001b[0;34m\u001b[0m\u001b[0;34m\u001b[0m\u001b[0m\n\u001b[1;32m      5\u001b[0m \u001b[0;32mimport\u001b[0m \u001b[0mpandas\u001b[0m \u001b[0;32mas\u001b[0m \u001b[0mpd\u001b[0m\u001b[0;34m\u001b[0m\u001b[0;34m\u001b[0m\u001b[0m\n\u001b[0;32m----> 6\u001b[0;31m \u001b[0;32mimport\u001b[0m \u001b[0maltair\u001b[0m \u001b[0;32mas\u001b[0m \u001b[0malt\u001b[0m\u001b[0;34m\u001b[0m\u001b[0;34m\u001b[0m\u001b[0m\n\u001b[0m\u001b[1;32m      7\u001b[0m \u001b[0;32mimport\u001b[0m \u001b[0mnetworkx\u001b[0m \u001b[0;32mas\u001b[0m \u001b[0mnx\u001b[0m\u001b[0;34m\u001b[0m\u001b[0;34m\u001b[0m\u001b[0m\n\u001b[1;32m      8\u001b[0m \u001b[0;32mfrom\u001b[0m \u001b[0mipycytoscape\u001b[0m \u001b[0;32mimport\u001b[0m \u001b[0mCytoscapeWidget\u001b[0m\u001b[0;34m\u001b[0m\u001b[0;34m\u001b[0m\u001b[0m\n",
      "\u001b[0;31mModuleNotFoundError\u001b[0m: No module named 'altair'"
     ]
    }
   ],
   "source": [
    "import requests\n",
    "\n",
    "import numpy as np\n",
    "from numpy.random import normal\n",
    "import pandas as pd\n",
    "import altair as alt\n",
    "import networkx as nx\n",
    "from ipycytoscape import CytoscapeWidget\n",
    "import ipywidgets as widgets\n",
    "\n",
    "from IPython.display import JSON, Markdown, display\n",
    "def printmd(string):\n",
    "    display(Markdown(string))"
   ]
  },
  {
   "cell_type": "markdown",
   "id": "587149c4-22b0-456f-82d7-666c087aea64",
   "metadata": {
    "tags": []
   },
   "source": [
    "# Setup 🛠"
   ]
  },
  {
   "cell_type": "code",
   "execution_count": null,
   "id": "1d2b026c-594e-4a42-a13b-24914be468a5",
   "metadata": {},
   "outputs": [],
   "source": [
    "cloud_api_base_url = 'https://cloud.getdbt.com/api/v2'\n",
    "metadata_api_url = 'https://metadata.cloud.getdbt.com/graphql'"
   ]
  },
  {
   "cell_type": "code",
   "execution_count": null,
   "id": "a1c2557e-e5e8-4d94-a440-676b43c458bc",
   "metadata": {},
   "outputs": [],
   "source": [
    "api_key = ''\n",
    "headers = {\n",
    "    \"Accept\": \"application/json\",\n",
    "    \"Authorization\": f\"Bearer {api_key}\"\n",
    "}"
   ]
  },
  {
   "cell_type": "markdown",
   "id": "4c071786-722b-4a42-8f3e-f0d497c6128d",
   "metadata": {},
   "source": [
    "### Chart configuration"
   ]
  },
  {
   "cell_type": "code",
   "execution_count": null,
   "id": "895b4bc1-d80b-46cf-96d3-4d994509f26b",
   "metadata": {},
   "outputs": [],
   "source": [
    "%%html\n",
    "<style>\n",
    "@import url('https://fonts.googleapis.com/css2?family=Source+Sans+Pro&family=Roboto+Slab');\n",
    "</style>"
   ]
  },
  {
   "cell_type": "code",
   "execution_count": null,
   "id": "37e9500f-7c98-48e9-b6cc-40b0ab77cfc0",
   "metadata": {
    "tags": []
   },
   "outputs": [],
   "source": [
    "coalesce_colors = {\n",
    "    \"blue\": \"#345F70\",\n",
    "    \"baby_blue\": \"#50ADD2\",\n",
    "    \"orange\": \"#ED7357\",\n",
    "    \"magenta\": \"#8F4056\",\n",
    "    \"green\": \"#82B14F\",\n",
    "    \"dark_green\": \"#327176\"\n",
    "}\n",
    "\n",
    "\n",
    "def coalesce_theme():\n",
    "    # Typography\n",
    "    font = \"Source Sans Pro, -apple-system, BlinkMacSystemFont, sans-serif\"\n",
    "    title_font = \"Roboto Slab, -apple-system, BlinkMacSystemFont, serif\"\n",
    "    font_color = \"#000000\"\n",
    "    labelFont = font\n",
    "    sourceFont = font\n",
    "    # Axes\n",
    "    axisColor = \"#000000\"\n",
    "    gridColor = \"#DEDDDD\"\n",
    "    \n",
    "    width = 600\n",
    "    height = 400\n",
    "    \n",
    "    title_font_size = 28\n",
    "    lg_font_size = 24\n",
    "    md_font_size = 20\n",
    "    sm_font_size = 16\n",
    "    return {\n",
    "        \"config\": {\n",
    "            \"view\": {\n",
    "                \"width\": width,\n",
    "                \"height\": height\n",
    "            },\n",
    "            \"title\": {\n",
    "                \"fontSize\": title_font_size,\n",
    "                \"font\": title_font,\n",
    "                \"anchor\": \"start\",\n",
    "                \"fontColor\": font_color,\n",
    "                \"offset\": 20,\n",
    "                \"subtitleFont\": title_font,\n",
    "                \"subtitleFontSize\": sm_font_size,\n",
    "                \"subtitleFontWeight\": 200\n",
    "            },\n",
    "            \"subtitle\": {\n",
    "                \"fontSize\": title_font_size,\n",
    "                \"font\": title_font,\n",
    "                \"anchor\": \"start\",\n",
    "                \"fontColor\": font_color,\n",
    "            },\n",
    "            \"legend\": {\n",
    "                \"titleFont\": font,\n",
    "                \"titleColor\": font_color,\n",
    "                \"titleFontSize\": sm_font_size,\n",
    "                \"labelFont\": font,\n",
    "                \"labelColor\": font_color,\n",
    "                \"labelFontSize\": sm_font_size,\n",
    "            },\n",
    "            \"axisX\": {\n",
    "                \"domain\": True,\n",
    "                \"domainColor\": axisColor,\n",
    "                \"domainWidth\": 1,\n",
    "                \"labelFont\": labelFont,\n",
    "                \"labelFontSize\": sm_font_size,\n",
    "                \"labelAngle\": 0,\n",
    "                \"tickColor\": axisColor,\n",
    "                \"tickSize\": 5,\n",
    "                \"titleFont\": font,\n",
    "                \"titleFontSize\": md_font_size,\n",
    "                \"titlePadding\": 10,\n",
    "                \"title\": \"X Axis Title (units)\", \n",
    "            },\n",
    "            \"axisY\": {\n",
    "                \"domain\": False,\n",
    "                \"grid\": True,\n",
    "                \"gridColor\": gridColor,\n",
    "                \"gridWidth\": 1,\n",
    "                \"labelFont\": labelFont,\n",
    "                \"labelFontSize\": sm_font_size,\n",
    "                \"labelAngle\": 0, \n",
    "                \"ticks\": False,\n",
    "                \"titleFont\": font,\n",
    "                \"titleFontSize\": md_font_size,\n",
    "                \"titlePadding\": 10,\n",
    "                \"title\": \"Y Axis Title (units)\"\n",
    "            },\n",
    "            \"range\": {\n",
    "                \"category\": [v for v in coalesce_colors.values()]\n",
    "            }\n",
    "        }\n",
    "    }\n",
    "\n",
    "# register\n",
    "alt.themes.register(\"coalesce_theme\", coalesce_theme)\n",
    "# enable|\n",
    "alt.themes.enable(\"coalesce_theme\")"
   ]
  },
  {
   "cell_type": "markdown",
   "id": "cfbca366-3f62-4c66-ba3f-dca1eb4c508a",
   "metadata": {
    "tags": []
   },
   "source": [
    "# Job 1. Real-time monitoring ⏱\n",
    "\n",
    "### Questions\n",
    "  \n",
    "You have dbt jobs running periodically in the cloud. Both for your own development purposes and to incorporate into a pipeline, how can we programmatically answer questions like:\n",
    "\n",
    "**1. What are the status of my jobs right now?**\n",
    "\n",
    "**2. What are potential model bottlenecks?**"
   ]
  },
  {
   "cell_type": "markdown",
   "id": "a6aadb28-f9a9-42c2-bf76-4918575883a7",
   "metadata": {},
   "source": [
    "### Get account"
   ]
  },
  {
   "cell_type": "code",
   "execution_count": null,
   "id": "84814e63-bcbb-40fa-8840-8c2620aaa487",
   "metadata": {},
   "outputs": [],
   "source": [
    "def get_accounts():\n",
    "    r = requests.get(f'{cloud_api_base_url}/accounts', headers=headers)\n",
    "    accounts_result = r.json()\n",
    "    return accounts_result.get('data')\n",
    "\n",
    "accounts_result = get_accounts()\n",
    "account_id = accounts_result[0].get(\"id\")\n",
    "display(pd.DataFrame(accounts_result))"
   ]
  },
  {
   "cell_type": "markdown",
   "id": "6b410258-b986-4679-b073-ea22441916d9",
   "metadata": {},
   "source": [
    "### Get jobs in project"
   ]
  },
  {
   "cell_type": "code",
   "execution_count": null,
   "id": "32eccf4e-a68e-47bf-9bf4-6a6457b576ef",
   "metadata": {},
   "outputs": [],
   "source": [
    "def get_jobs(account_id):\n",
    "    r = requests.get(f'{cloud_api_base_url}/accounts/{account_id}/jobs', headers=headers)\n",
    "    jobs_result = r.json()\n",
    "    return jobs_result.get('data')\n",
    "\n",
    "jobs = get_jobs(account_id)\n",
    "display(pd.DataFrame(jobs))\n",
    "\n",
    "most_recent_job = jobs[0]\n",
    "job_id = most_recent_job.get(\"id\")\n",
    "job_name = most_recent_job.get(\"name\")"
   ]
  },
  {
   "cell_type": "markdown",
   "id": "b57006a1-b797-4b56-83cd-29d8067e9400",
   "metadata": {},
   "source": [
    "### Get runs in job"
   ]
  },
  {
   "cell_type": "code",
   "execution_count": 3,
   "id": "b8d3073c-8995-40dd-a3cf-ef5126ece660",
   "metadata": {},
   "outputs": [
    {
     "ename": "NameError",
     "evalue": "name 'account_id' is not defined",
     "output_type": "error",
     "traceback": [
      "\u001b[0;31m---------------------------------------------------------------------------\u001b[0m",
      "\u001b[0;31mNameError\u001b[0m                                 Traceback (most recent call last)",
      "\u001b[0;32m<ipython-input-3-f5e459a79ffe>\u001b[0m in \u001b[0;36m<module>\u001b[0;34m\u001b[0m\n\u001b[1;32m     11\u001b[0m \u001b[0;34m\u001b[0m\u001b[0m\n\u001b[1;32m     12\u001b[0m \u001b[0mnum_runs\u001b[0m \u001b[0;34m=\u001b[0m \u001b[0;36m150\u001b[0m\u001b[0;34m\u001b[0m\u001b[0;34m\u001b[0m\u001b[0m\n\u001b[0;32m---> 13\u001b[0;31m \u001b[0mruns\u001b[0m \u001b[0;34m=\u001b[0m \u001b[0mget_runs_for_job\u001b[0m\u001b[0;34m(\u001b[0m\u001b[0maccount_id\u001b[0m\u001b[0;34m,\u001b[0m \u001b[0mjob_id\u001b[0m\u001b[0;34m,\u001b[0m \u001b[0mnum_runs\u001b[0m\u001b[0;34m=\u001b[0m\u001b[0mnum_runs\u001b[0m\u001b[0;34m)\u001b[0m\u001b[0;34m\u001b[0m\u001b[0;34m\u001b[0m\u001b[0m\n\u001b[0m\u001b[1;32m     14\u001b[0m \u001b[0mdisplay\u001b[0m\u001b[0;34m(\u001b[0m\u001b[0mpd\u001b[0m\u001b[0;34m.\u001b[0m\u001b[0mDataFrame\u001b[0m\u001b[0;34m(\u001b[0m\u001b[0mruns\u001b[0m\u001b[0;34m)\u001b[0m\u001b[0;34m.\u001b[0m\u001b[0mhead\u001b[0m\u001b[0;34m(\u001b[0m\u001b[0;34m)\u001b[0m\u001b[0;34m)\u001b[0m\u001b[0;34m\u001b[0m\u001b[0;34m\u001b[0m\u001b[0m\n\u001b[1;32m     15\u001b[0m \u001b[0;34m\u001b[0m\u001b[0m\n",
      "\u001b[0;31mNameError\u001b[0m: name 'account_id' is not defined"
     ]
    }
   ],
   "source": [
    "def get_runs_for_job(account_id, job_id, num_runs=100):\n",
    "    data = {\n",
    "        \"job_definition_id\": job_id,\n",
    "        \"order_by\": '-created_at',\n",
    "        \"limit\": num_runs\n",
    "    }\n",
    "    \n",
    "    r = requests.get(f'{cloud_api_base_url}/accounts/{account_id}/runs', params=data, headers=headers)\n",
    "    runs_result = r.json()\n",
    "    return runs_result.get(\"data\")\n",
    "\n",
    "num_runs = 150\n",
    "runs = get_runs_for_job(account_id, job_id, num_runs=num_runs)\n",
    "display(pd.DataFrame(runs).head())\n",
    "\n",
    "\n",
    "def get_run_status(run):\n",
    "    if run[\"in_progress\"]:\n",
    "        return \"in_progress\"\n",
    "    if run[\"is_complete\"]:\n",
    "        return \"is_complete\"\n",
    "    if run[\"is_error\"]:\n",
    "        return \"is_error\"\n",
    "    if run[\"is_cancelled\"]:\n",
    "        return \"is_cancelled\"\n",
    "    \n",
    "def create_job_status_df(runs):\n",
    "    run_statuses = [\n",
    "        {\n",
    "            \"id\": run[\"id\"],\n",
    "            \"created_at\": run[\"created_at\"],\n",
    "            \"status\": get_run_status(run),\n",
    "        }\n",
    "        for run in runs\n",
    "    ]\n",
    "    return pd.DataFrame(run_statuses)\n",
    "\n",
    "run_statuses_df = create_job_status_df(runs)\n",
    "display(run_statuses_df.head())"
   ]
  },
  {
   "cell_type": "markdown",
   "id": "af052c0a-a44b-49da-96c4-786f655bc36e",
   "metadata": {},
   "source": [
    "### Visualize model statuses"
   ]
  },
  {
   "cell_type": "code",
   "execution_count": null,
   "id": "8d47eb7c-2347-4500-a44f-a450d4bc4f45",
   "metadata": {
    "tags": []
   },
   "outputs": [],
   "source": [
    "def create_run_status_heatmap(df):\n",
    "    chart = alt.Chart(\n",
    "        df\n",
    "    ).mark_rect(stroke='white', strokeWidth=1).encode(\n",
    "        x=alt.X('hours(created_at):O', title='Run Hour', axis=alt.Axis(grid=False)),\n",
    "        y=alt.Y('date(created_at):O', title='Run Date', axis=alt.Axis(grid=False)),\n",
    "        text=alt.Text('hours(created_at):O'),\n",
    "        color=alt.Color('status', scale=alt.Scale(\n",
    "            domain=['in_progress', 'is_complete', 'is_error', 'is_cancelled'],\n",
    "            range=[coalesce_colors[\"baby_blue\"], coalesce_colors[\"dark_green\"], coalesce_colors['magenta'], coalesce_colors['orange']]\n",
    "        )),\n",
    "        tooltip=[alt.Tooltip('monthdate(created_at)', title='Date'), alt.Tooltip('hoursminutes(created_at)', title='Time'), alt.Tooltip('status', title='Status')]\n",
    "    ).properties(\n",
    "        title={\n",
    "            \"text\": 'Run Statuses Over Time',\n",
    "            \"subtitle\": [f'''Status of scheduled job runs retrieved from the dbt Cloud API for job \"{job_name}\"''']\n",
    "        }\n",
    "    ).interactive()\n",
    "    return chart\n",
    "\n",
    "run_status_heatmap = create_run_status_heatmap(run_statuses_df)\n",
    "display(run_status_heatmap)"
   ]
  },
  {
   "cell_type": "markdown",
   "id": "0a0d45ca-fb1b-4e0b-ba2f-df56ed80f5ab",
   "metadata": {},
   "source": [
    "### Getting model execution times"
   ]
  },
  {
   "cell_type": "code",
   "execution_count": null,
   "id": "b3047e12-1cc1-4b56-be50-5e78c47d0dca",
   "metadata": {},
   "outputs": [],
   "source": [
    "def get_models_for_job(job_id):\n",
    "    data = f\"\"\"{{\n",
    "        models(jobId: {job_id}) {{\n",
    "            name\n",
    "            uniqueId\n",
    "            alias\n",
    "            database\n",
    "            schema\n",
    "            runGeneratedAt\n",
    "            executionTime\n",
    "            executeStartedAt\n",
    "            executeCompletedAt\n",
    "        }}\n",
    "    }}\"\"\"\n",
    "\n",
    "    r = requests.post(metadata_api_url, data={\"query\": data}, headers=headers)\n",
    "    models = r.json()['data']['models']\n",
    "    return models\n",
    "\n",
    "models = get_models_for_job(job_id)\n",
    "display(pd.DataFrame(models).head())"
   ]
  },
  {
   "cell_type": "markdown",
   "id": "e475b260-0a11-408b-ba24-be2043bb3939",
   "metadata": {},
   "source": [
    "### Visualize model execution times"
   ]
  },
  {
   "cell_type": "markdown",
   "id": "5d9d983c",
   "metadata": {
    "tags": []
   },
   "source": [
    "def get_models_by_execution_time_df(models):\n",
    "    models_by_execution_time = [{\n",
    "        \"model_id\": model[\"uniqueId\"],\n",
    "        \"execution_time\": model[\"executionTime\"],\n",
    "        \"execute_started_at\": model[\"executeStartedAt\"],\n",
    "        \"execute_completed_at\": model[\"executeCompletedAt\"],\n",
    "    } for model in models if model[\"executionTime\"]]\n",
    "    models_by_execution_time_df = pd.DataFrame(models_by_execution_time)\n",
    "    models_by_execution_time_df['model_name'] = models_by_execution_time_df['model_id'].str.rsplit('.').str[-1]\n",
    "    return models_by_execution_time_df\n",
    "\n",
    "models_by_execution_time_df = get_models_by_execution_time_df(models)\n",
    "\n",
    "def create_model_execution_gantt_chart(df):\n",
    "    character_height = 16\n",
    "    chart = alt.Chart(df).mark_bar().encode(\n",
    "        x=alt.X('execute_started_at:T', title='Execution Start Time'),\n",
    "        x2=alt.X2('execute_completed_at:T'),\n",
    "        y=alt.Y('model_name:N', sort='x', title='Model ID'),\n",
    "        color=alt.Color('execution_time:Q', scale=alt.Scale(scheme=\"reds\")),\n",
    "        tooltip=[alt.Tooltip('model_name', title='Model Name'), alt.Tooltip('execution_time', title='Execution Time')]\n",
    "    ).properties(title={\n",
    "        \"text\": 'Model Execution Times',\n",
    "        \"subtitle\": [f'''Gantt chart of model execution times in sequence for most recent run of job \"{job_name}\"''']\n",
    "    }, height=max(400, 16 * len(pd.unique(df['model_name'])))\n",
    "    ).configure_axisY(\n",
    "        labelLimit=300,\n",
    "        titleAngle=0,\n",
    "        titleY=0,\n",
    "        titleX=-38\n",
    "    ).interactive()\n",
    "    return chart\n",
    "\n",
    "gantt_chart = create_model_execution_gantt_chart(models_by_execution_time_df)\n",
    "display(gantt_chart)"
   ]
  },
  {
   "cell_type": "code",
   "execution_count": null,
   "id": "5e44ba74",
   "metadata": {
    "tags": []
   },
   "outputs": [],
   "source": [
    "# Job 2: Impact analysis 🏝\n",
    "\n",
    "### Questions\n",
    "\n",
    "**1. You're changing existing models in a dbt DAG, what is the downstream impact of these changes?**\n",
    "  \n",
    "**2. You're looking to refactor your dbt jobs because your warehouse consumption is increasing, where are good places to start?**"
   ]
  },
  {
   "cell_type": "markdown",
   "id": "722e8047-81d7-4115-bece-0d39c350729a",
   "metadata": {},
   "source": [
    "### Retrieve DAG"
   ]
  },
  {
   "cell_type": "code",
   "execution_count": null,
   "id": "1e5ae76b-19b6-400b-aa6a-aae2bb9066e5",
   "metadata": {},
   "outputs": [],
   "source": [
    "run_ids = [r[\"id\"] for r in runs]\n",
    "selected_run_id = widgets.Dropdown(\n",
    "    options=run_ids,\n",
    "    value=run_ids[0],\n",
    "    description='Run ID:'\n",
    ")\n",
    "display(selected_run_id)"
   ]
  },
  {
   "cell_type": "code",
   "execution_count": null,
   "id": "e9bb6c81-28bb-4b27-815b-997ed2cbfe1d",
   "metadata": {},
   "outputs": [],
   "source": [
    "def retrieve_artifacts_list_for_run(account_id, run_id):\n",
    "    r = requests.get(f'{cloud_api_base_url}/accounts/{account_id}/runs/{selected_run_id.value}/artifacts', headers=headers)\n",
    "    return r.json()\n",
    "\n",
    "artifacts = retrieve_artifacts_list_for_run(account_id, selected_run_id.value)\n",
    "display(JSON(artifacts))"
   ]
  },
  {
   "cell_type": "code",
   "execution_count": null,
   "id": "aff9b53b-73c2-4e2a-932e-ad5349854640",
   "metadata": {},
   "outputs": [],
   "source": [
    "def retrieve_manifest_for_run(account_id, run_id):\n",
    "    artifact_headers = headers = {\n",
    "        \"Authorization\": f\"Bearer {api_key}\"\n",
    "    }\n",
    "    r = requests.get(f'{cloud_api_base_url}/accounts/{account_id}/runs/{run_id}/artifacts/manifest.json', headers=artifact_headers)\n",
    "    manifest = r.json()\n",
    "    return manifest\n",
    "\n",
    "manifest = retrieve_manifest_for_run(account_id, selected_run_id.value)\n",
    "display(JSON(manifest))"
   ]
  },
  {
   "cell_type": "markdown",
   "id": "520d6a56-c11a-4893-b3ae-3635df0f5f7f",
   "metadata": {},
   "source": [
    "### Represent manifest child_map as network"
   ]
  },
  {
   "cell_type": "code",
   "execution_count": null,
   "id": "69ba1b61-609e-46c2-94ca-d5601c2e2490",
   "metadata": {},
   "outputs": [],
   "source": [
    "def construct_digraph_from_manifest(manifest, character_width = 6):\n",
    "    graph = nx.DiGraph()\n",
    "\n",
    "    for model_id, metadata in manifest['nodes'].items():\n",
    "        model_name = model_id.rsplit('.')[-1]\n",
    "        graph.add_node(model_id, name=model_name, node_type=\"model\", color=coalesce_colors[\"blue\"], width=character_width * len(model_id))\n",
    "\n",
    "    for source_id, metadata in manifest['sources'].items():\n",
    "        source_name = source_id.rsplit('.')[-1]\n",
    "        graph.add_node(source_id, name=source_name, node_type=\"source\", color=coalesce_colors[\"green\"], width=character_width * len(source_id))\n",
    "\n",
    "    for parent_id, children in manifest['child_map'].items():\n",
    "        for child_id in children:\n",
    "            graph.add_edge(parent_id, child_id)\n",
    "    return graph\n",
    "\n",
    "graph = construct_digraph_from_manifest(manifest)"
   ]
  },
  {
   "cell_type": "markdown",
   "id": "7f0d7430-7405-433f-be01-0c28e20dc1d3",
   "metadata": {},
   "source": [
    "### Visualize DAG"
   ]
  },
  {
   "cell_type": "code",
   "execution_count": null,
   "id": "ada2696e-b4de-4ed4-865b-3ded2ca72212",
   "metadata": {},
   "outputs": [],
   "source": [
    "def create_visualization_of_digraph(graph):\n",
    "    cyto = CytoscapeWidget()\n",
    "    cyto.graph.add_graph_from_networkx(graph, directed=True)\n",
    "    cyto.set_layout(\n",
    "        name=\"dagre\",\n",
    "        rankDir=\"LR\"\n",
    "    )\n",
    "    cyto.set_style([\n",
    "        {\n",
    "            'selector': 'node',\n",
    "            'style': {\n",
    "                'content': 'data(name)',\n",
    "                'text-valign': 'center',\n",
    "                'background-color': 'data(color)',\n",
    "                'shape': 'rectangle',\n",
    "                'width': 'data(width)',\n",
    "                'color': 'white',\n",
    "                'border-radius': '5px',\n",
    "                'font': \"Source Sans Pro\"\n",
    "            }\n",
    "        },\n",
    "        {\n",
    "            \"selector\": \"edge.directed\",\n",
    "            \"style\": {\n",
    "                \"curve-style\": \"bezier\",\n",
    "                \"target-arrow-shape\": \"triangle\",\n",
    "            },\n",
    "        }\n",
    "    ])\n",
    "    return cyto\n",
    "visualization_of_digraph = create_visualization_of_digraph(graph)\n",
    "display(visualization_of_digraph)"
   ]
  },
  {
   "cell_type": "markdown",
   "id": "cc1bd2bd-e5db-415b-be65-59a3beb361f3",
   "metadata": {},
   "source": [
    "### Determine successors + predecessors of selected model"
   ]
  },
  {
   "cell_type": "code",
   "execution_count": null,
   "id": "cd64cfe4-7d53-421d-9307-eaacca2fd837",
   "metadata": {},
   "outputs": [],
   "source": [
    "def mark_node_successors_in_digraph(graph, selected_model):\n",
    "    graph_with_marked_successors = graph.copy()\n",
    "    bfs_successors = [s for s in nx.algorithms.traversal.breadth_first_search.bfs_successors(graph_with_marked_successors, selected_model)]\n",
    "    successors_of_selected_model = []\n",
    "    if bfs_successors:\n",
    "        for successor in bfs_successors:\n",
    "            successors_of_selected_model.append(successor[0])\n",
    "            successors_of_selected_model.extend(successor[1])\n",
    "        for successor in set(successors_of_selected_model):\n",
    "            graph_with_marked_successors.nodes[successor]['color'] = coalesce_colors[\"orange\"]\n",
    "    graph_with_marked_successors.nodes[selected_model]['color'] = coalesce_colors[\"magenta\"]\n",
    "    return graph_with_marked_successors\n",
    "\n",
    "def mark_node_predecessors_in_digraph(graph, selected_model):\n",
    "    graph_with_marked_predecessors = graph.copy()\n",
    "    predecessors = [s for s in  nx.algorithms.dag.ancestors(graph, selected_model)]\n",
    "    predecessors_of_selected_model = []\n",
    "    if predecessors:\n",
    "        for predecessor in set(predecessors):\n",
    "            graph_with_marked_predecessors.nodes[predecessor]['color'] = coalesce_colors[\"orange\"]\n",
    "    graph_with_marked_predecessors.nodes[selected_model]['color'] = coalesce_colors[\"magenta\"]\n",
    "    return graph_with_marked_predecessors"
   ]
  },
  {
   "cell_type": "markdown",
   "id": "6c5ae42f-4816-4f49-b907-3bf16c500445",
   "metadata": {},
   "source": [
    "### Visualize downstream and upstream impact"
   ]
  },
  {
   "cell_type": "code",
   "execution_count": null,
   "id": "59e5838f-b5fd-4226-8b83-7ec7e6024d0e",
   "metadata": {},
   "outputs": [],
   "source": [
    "model_unique_ids = sorted([model_id for model_id, metadata in manifest['nodes'].items()])\n",
    "selected_model = widgets.Dropdown(\n",
    "    options=model_unique_ids,\n",
    "    value=model_unique_ids[0],\n",
    "    description='Model:'\n",
    ")\n",
    "display(selected_model)"
   ]
  },
  {
   "cell_type": "code",
   "execution_count": null,
   "id": "5639a101-7518-4ccf-9731-334df13a2edf",
   "metadata": {},
   "outputs": [],
   "source": [
    "mode = 'successors'\n",
    "if mode == 'predecessors': graph_with_marked_relations = mark_node_predecessors_in_digraph(graph, selected_model.value)\n",
    "elif mode == 'successors': graph_with_marked_relations = mark_node_successors_in_digraph(graph, selected_model.value)\n",
    "visualization_of_digraph = create_visualization_of_digraph(graph_with_marked_relations)\n",
    "display(visualization_of_digraph)"
   ]
  },
  {
   "cell_type": "markdown",
   "id": "c7aacda0-759c-4be0-a395-d2272bf8991b",
   "metadata": {},
   "source": [
    "### Visualize number of descendants"
   ]
  },
  {
   "cell_type": "code",
   "execution_count": null,
   "id": "77e2c66f-f032-4c2c-818c-21a73cfcb429",
   "metadata": {},
   "outputs": [],
   "source": [
    "def get_number_of_descendants_df(graph):\n",
    "    number_of_descendants_dict = []\n",
    "    for node, node_attributes in graph.nodes.items():\n",
    "        node_name = node.rsplit('.')[-1]\n",
    "        number_of_descendants_dict.append({\n",
    "            \"node\": node_name,\n",
    "            \"num_descendants\": len(nx.algorithms.dag.descendants(graph, node)),\n",
    "            \"type\": node_attributes['node_type']\n",
    "        })\n",
    "    number_of_descendants_df = pd.DataFrame(number_of_descendants_dict)\n",
    "    return number_of_descendants_df\n",
    "\n",
    "number_of_descendants_df = get_number_of_descendants_df(graph)\n",
    "\n",
    "def create_histogram_of_number_of_descendants(df, limit=30):\n",
    "    chart = alt.Chart(df[:limit]).mark_bar().encode(\n",
    "        x=alt.X('num_descendants:Q', title='Number of Descendants'),\n",
    "        y=alt.Y('node:N', sort='-x', title='Node'),\n",
    "        color=alt.Color('type:N', title='Node Type', scale=alt.Scale(range=[coalesce_colors[\"blue\"], coalesce_colors[\"green\"]])),\n",
    "        tooltip=alt.Tooltip(['node', 'num_descendants'])\n",
    "    ).properties(title={\n",
    "        \"text\": 'Distribution of Nodes by Number of Successors',\n",
    "        \"subtitle\": [f'''Number of successors for each node (model, source, seed) in dbt job \"{job_name}\"'''],\n",
    "    }, height=600\n",
    "    ).configure_axisY(\n",
    "        labelLimit=300,\n",
    "        titleAngle=0,\n",
    "        titleY=0,\n",
    "        titleX=-22\n",
    "    ).interactive()\n",
    "    return chart\n",
    "\n",
    "chart = create_histogram_of_number_of_descendants(number_of_descendants_df, limit=30)\n",
    "display(chart)"
   ]
  },
  {
   "cell_type": "markdown",
   "id": "7f63dd3b-88c6-4db2-b9bc-63218e92f56f",
   "metadata": {
    "tags": []
   },
   "source": [
    "# Job 3: Historical understanding 📈\n",
    "\n",
    "**1. As you increase the size of your source tables and complexity of your DAGs, are your job runs are starting to take longer?**\n",
    "\n",
    "**2. If job run times are increasing, which specific models are taking more time?**"
   ]
  },
  {
   "cell_type": "markdown",
   "id": "86b1669b-917c-4286-8a26-37b6e0fd8724",
   "metadata": {},
   "source": [
    "### Retrieve run durations over time"
   ]
  },
  {
   "cell_type": "code",
   "execution_count": null,
   "id": "e762afc4-1195-4dcd-a06c-4ae502015c72",
   "metadata": {},
   "outputs": [],
   "source": [
    "num_runs = 100\n",
    "runs = get_runs_for_job(account_id, job_id, num_runs=num_runs)\n",
    "display(pd.DataFrame(runs).head())\n",
    "\n",
    "def get_run_time_duration_df(runs):\n",
    "    run_times = [\n",
    "        {\n",
    "            \"id\": run[\"id\"],\n",
    "            \"start_time\": pd.Timestamp(run[\"started_at\"]),\n",
    "            \"duration\": (pd.Timestamp(run[\"finished_at\"]) - pd.Timestamp(run[\"started_at\"])).total_seconds()\n",
    "        }\n",
    "        for run in runs\n",
    "        if run[\"is_complete\"]\n",
    "    ]\n",
    "    run_time_duration_df = pd.DataFrame(run_times).sort_values(\"start_time\", ascending=True)\n",
    "    return run_time_duration_df\n",
    "\n",
    "run_time_duration_df = get_run_time_duration_df(runs)"
   ]
  },
  {
   "cell_type": "markdown",
   "id": "761f3597-6295-4093-bc45-a3004d873f01",
   "metadata": {},
   "source": [
    "### Visualize job runs times over time"
   ]
  },
  {
   "cell_type": "code",
   "execution_count": null,
   "id": "4fae4118-664e-46c5-8a79-7c54b9cd54f8",
   "metadata": {},
   "outputs": [],
   "source": [
    "def create_run_time_line_chart(df, num_runs=None):\n",
    "    chart = alt.Chart(df).mark_line().encode(\n",
    "        x=alt.X('start_time', title='Run Start Time'),\n",
    "        y=alt.Y('duration', title='Run Duration (sec)'),\n",
    "        tooltip=['id', 'start_time', 'duration']\n",
    "    ).properties(title={\n",
    "        \"text\": 'Job Run Times',\n",
    "        \"subtitle\": [f'''Line chart of job run times for most {num_runs} recent runs of job \"{job_name}\"''']\n",
    "    }).interactive()\n",
    "    return chart\n",
    "\n",
    "run_time_line_chart = create_run_time_line_chart(run_time_duration_df, num_runs=num_runs)\n",
    "display(run_time_line_chart)"
   ]
  },
  {
   "cell_type": "markdown",
   "id": "2da72091-f334-42c3-bf77-287d955d3640",
   "metadata": {},
   "source": [
    "### Retrieve run results for each run"
   ]
  },
  {
   "cell_type": "code",
   "execution_count": null,
   "id": "5cf32e18-ef01-4c36-a99f-4112d1809e0c",
   "metadata": {},
   "outputs": [],
   "source": [
    "def get_model_execution_results_by_run(account_id, num_runs=100):\n",
    "    limited_headers = {\"Authorization\": headers['Authorization']}\n",
    "\n",
    "    all_model_execution_results_by_run = []\n",
    "    for i, run in enumerate(runs[:num_runs]):\n",
    "        print(f\"Retrieving {i + 1} / {num_runs} runs\")\n",
    "        run_id = run[\"id\"]\n",
    "        r = requests.get(f'{cloud_api_base_url}/accounts/{account_id}/runs/{run_id}/artifacts/run_results.json', headers=limited_headers)\n",
    "        try:\n",
    "            runs_results = r.json()['results']\n",
    "        except Exception as e:\n",
    "            print(e)\n",
    "            continue\n",
    "\n",
    "        model_execution_results_by_run = []\n",
    "        for run_result in runs_results:\n",
    "            execution_timing = next((r for r in run_result['timing'] if r['name'] == 'execute'))\n",
    "            \n",
    "            if 'node' in run_result:\n",
    "                unique_id = run_result['node']['unique_id']\n",
    "            else:\n",
    "                unique_id = run_result['unique_id']\n",
    "            model_execution_results_by_run.append({\n",
    "                \"model_id\": unique_id,\n",
    "                \"execution_time\": run_result['execution_time'],\n",
    "                \"execute_started_at\": execution_timing['started_at'],\n",
    "                \"execute_completed_at\": execution_timing['completed_at'],\n",
    "                \"run_id\": run_id,\n",
    "                \"run_started_at\": run[\"started_at\"]\n",
    "            })\n",
    "        all_model_execution_results_by_run.extend(model_execution_results_by_run)\n",
    "    \n",
    "    model_execution_results_by_run_df = pd.DataFrame(all_model_execution_results_by_run).sort_values('execute_started_at', ascending=True).reset_index()\n",
    "    model_execution_results_by_run_df['model_name'] = model_execution_results_by_run_df['model_id'].str.rsplit('.').str[-1]\n",
    "    return model_execution_results_by_run_df\n",
    "\n",
    "model_execution_results_by_run_df = get_model_execution_results_by_run(account_id, num_runs=20)"
   ]
  },
  {
   "cell_type": "markdown",
   "id": "1ab5223f-c3e3-492d-99be-dbe6faca9716",
   "metadata": {},
   "source": [
    "### Visualize model execution times over time"
   ]
  },
  {
   "cell_type": "code",
   "execution_count": null,
   "id": "9328b8d8-1fe0-47b3-8706-f39d78e0810c",
   "metadata": {},
   "outputs": [],
   "source": [
    "def filter_only_longest_running_models(model_execution_results_by_run_df, num_long_running_models=10):\n",
    "    longest_running_models = model_execution_results_by_run_df.groupby('model_name').mean().reset_index().sort_values('execution_time').iloc[-num_long_running_models:]['model_name']\n",
    "    model_execution_results_by_run_for_longest_runs_df = model_execution_results_by_run_df[model_execution_results_by_run_df['model_name'].isin(longest_running_models)]\n",
    "    return model_execution_results_by_run_for_longest_runs_df\n",
    "\n",
    "model_execution_results_by_run_for_longest_runs_df = filter_only_longest_running_models(model_execution_results_by_run_df, num_long_running_models=5)\n",
    "\n",
    "def create_line_chart_of_longest_running_model_execution_times(df, num_runs=None):\n",
    "    chart = alt.Chart(df).mark_line().encode(\n",
    "        alt.X('run_started_at:T', title='Run Start Time'),\n",
    "        alt.Y('execution_time:Q', title='Model Execution (seconds)'),\n",
    "        alt.Color('model_name:N',\n",
    "            scale=alt.Scale(scheme='tableau10')\n",
    "        )\n",
    "    ).properties(title={\n",
    "        \"text\": 'Model Execution Times Over Time',\n",
    "        \"subtitle\": [f'''Line chart of model execution times most {num_runs} recent runs of job \"{job_name}\"''']\n",
    "    }).interactive()\n",
    "    return chart\n",
    "\n",
    "chart = create_line_chart_of_longest_running_model_execution_times(model_execution_results_by_run_for_longest_runs_df, num_runs=num_runs)\n",
    "display(chart)"
   ]
  },
  {
   "cell_type": "code",
   "execution_count": null,
   "id": "9e0c6a3d-f1ad-4c68-897f-ab7b21e2c3e8",
   "metadata": {
    "collapsed": true
   },
   "outputs": [],
   "source": []
  }
 ],
 "metadata": {
  "kernelspec": {
   "display_name": "Python 3",
   "language": "python",
   "name": "python3"
  },
  "language_info": {
   "codemirror_mode": {
    "name": "ipython",
    "version": 3
   },
   "file_extension": ".py",
   "mimetype": "text/x-python",
   "name": "python",
   "nbconvert_exporter": "python",
   "pygments_lexer": "ipython3",
   "version": "3.8.5"
  }
 },
 "nbformat": 4,
 "nbformat_minor": 5
}
